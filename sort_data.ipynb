{
 "cells": [
  {
   "cell_type": "code",
   "execution_count": 1,
   "id": "24abf1dd-c830-4d80-ac87-ab8b2727b839",
   "metadata": {},
   "outputs": [],
   "source": [
    "import pandas as pd"
   ]
  },
  {
   "cell_type": "code",
   "execution_count": 11,
   "id": "b8278494-3c77-446c-a727-52d67cf38fed",
   "metadata": {},
   "outputs": [],
   "source": [
    "target = pd.read_csv('./data/train/target_hakaton_spb.csv', delimiter=';')"
   ]
  },
  {
   "cell_type": "code",
   "execution_count": 12,
   "id": "9bd21383-c231-453f-8bd2-d984b2397e85",
   "metadata": {},
   "outputs": [],
   "source": [
    "target = target.drop('gorod', axis=1)"
   ]
  },
  {
   "cell_type": "code",
   "execution_count": 111,
   "id": "6ae91106-668a-4a5f-8b65-8c21bb975476",
   "metadata": {},
   "outputs": [
    {
     "data": {
      "text/plain": [
       "-43"
      ]
     },
     "execution_count": 111,
     "metadata": {},
     "output_type": "execute_result"
    }
   ],
   "source": [
    "tmp_target = target['geo_h3_10'].to_numpy()\n",
    "len(set(tmp_target)) - len(tmp_target)"
   ]
  },
  {
   "cell_type": "code",
   "execution_count": 112,
   "id": "e3b16358-67cb-4a3e-98f7-1bbab4a78a13",
   "metadata": {},
   "outputs": [
    {
     "data": {
      "text/html": [
       "<div>\n",
       "<style scoped>\n",
       "    .dataframe tbody tr th:only-of-type {\n",
       "        vertical-align: middle;\n",
       "    }\n",
       "\n",
       "    .dataframe tbody tr th {\n",
       "        vertical-align: top;\n",
       "    }\n",
       "\n",
       "    .dataframe thead th {\n",
       "        text-align: right;\n",
       "    }\n",
       "</style>\n",
       "<table border=\"1\" class=\"dataframe\">\n",
       "  <thead>\n",
       "    <tr style=\"text-align: right;\">\n",
       "      <th></th>\n",
       "      <th>geo_h3_10</th>\n",
       "      <th>lat_h3</th>\n",
       "      <th>lon_h3</th>\n",
       "      <th>atm_category</th>\n",
       "      <th>target</th>\n",
       "      <th>atm_cnt</th>\n",
       "    </tr>\n",
       "  </thead>\n",
       "  <tbody>\n",
       "    <tr>\n",
       "      <th>1</th>\n",
       "      <td>8a10c2288087fff</td>\n",
       "      <td>56.885391</td>\n",
       "      <td>60.588203</td>\n",
       "      <td>category3</td>\n",
       "      <td>30652.666667</td>\n",
       "      <td>4</td>\n",
       "    </tr>\n",
       "  </tbody>\n",
       "</table>\n",
       "</div>"
      ],
      "text/plain": [
       "         geo_h3_10     lat_h3     lon_h3 atm_category        target  atm_cnt\n",
       "1  8a10c2288087fff  56.885391  60.588203    category3  30652.666667        4"
      ]
     },
     "execution_count": 112,
     "metadata": {},
     "output_type": "execute_result"
    }
   ],
   "source": [
    "target[target['geo_h3_10'] == '8a10c2288087fff']"
   ]
  },
  {
   "cell_type": "code",
   "execution_count": 62,
   "id": "d2d72105-410b-4b50-85e8-169c546f21ad",
   "metadata": {},
   "outputs": [],
   "source": [
    "array = target[['lat_h3', 'lon_h3']].to_numpy()\n",
    "set_of_coords = set([(row[0], row[1]) for row in array])"
   ]
  },
  {
   "cell_type": "code",
   "execution_count": null,
   "id": "80966158-159d-4e90-90fd-251b13053253",
   "metadata": {},
   "outputs": [],
   "source": [
    "set_of_coords"
   ]
  },
  {
   "cell_type": "code",
   "execution_count": null,
   "id": "e093f306-0271-44c7-b734-c07b35218edb",
   "metadata": {},
   "outputs": [],
   "source": [
    "set_of_h3 = set(target['geo_h3_10'])\n",
    "set_of_h3"
   ]
  },
  {
   "cell_type": "code",
   "execution_count": 39,
   "id": "01ddc685-07ee-413e-9280-3775e86566dd",
   "metadata": {},
   "outputs": [],
   "source": [
    "df.to_csv('osm_amenity_filtered.csv', index=False)"
   ]
  },
  {
   "cell_type": "code",
   "execution_count": 40,
   "id": "27566e9e-ce63-4904-8044-6b3f51bb2241",
   "metadata": {},
   "outputs": [],
   "source": [
    "iso = pd.read_csv('./data/train/isochrones_walk_dataset.csv')"
   ]
  },
  {
   "cell_type": "code",
   "execution_count": 75,
   "id": "50e56b77-d029-43e4-a051-bc60249a7865",
   "metadata": {},
   "outputs": [
    {
     "data": {
      "text/plain": [
       "{'Екатеринбург', 'Нижний Новгород', 'Новосибирск', 'Санкт-Петербург'}"
      ]
     },
     "execution_count": 75,
     "metadata": {},
     "output_type": "execute_result"
    }
   ],
   "source": [
    "city_names = set(iso['city'].to_dict().values())\n",
    "city_names"
   ]
  },
  {
   "cell_type": "code",
   "execution_count": 80,
   "id": "31c4f43d-ea3b-4f54-a96a-3c629dd4bb43",
   "metadata": {},
   "outputs": [
    {
     "data": {
      "text/html": [
       "<div>\n",
       "<style scoped>\n",
       "    .dataframe tbody tr th:only-of-type {\n",
       "        vertical-align: middle;\n",
       "    }\n",
       "\n",
       "    .dataframe tbody tr th {\n",
       "        vertical-align: top;\n",
       "    }\n",
       "\n",
       "    .dataframe thead th {\n",
       "        text-align: right;\n",
       "    }\n",
       "</style>\n",
       "<table border=\"1\" class=\"dataframe\">\n",
       "  <thead>\n",
       "    <tr style=\"text-align: right;\">\n",
       "      <th></th>\n",
       "      <th>city</th>\n",
       "      <th>walk_15min</th>\n",
       "      <th>geo_h3_10</th>\n",
       "      <th>lat</th>\n",
       "      <th>lon</th>\n",
       "      <th>dist_squared</th>\n",
       "    </tr>\n",
       "  </thead>\n",
       "  <tbody>\n",
       "    <tr>\n",
       "      <th>8101</th>\n",
       "      <td>Санкт-Петербург</td>\n",
       "      <td>POLYGON ((30.332483 59.818147, 30.323693 59.81...</td>\n",
       "      <td>8a1106001207fff</td>\n",
       "      <td>59.812074</td>\n",
       "      <td>30.339483</td>\n",
       "      <td>2792.782088</td>\n",
       "    </tr>\n",
       "    <tr>\n",
       "      <th>8102</th>\n",
       "      <td>Санкт-Петербург</td>\n",
       "      <td>POLYGON ((30.337039 59.818861, 30.329936 59.81...</td>\n",
       "      <td>8a110600120ffff</td>\n",
       "      <td>59.812854</td>\n",
       "      <td>30.341039</td>\n",
       "      <td>2792.625851</td>\n",
       "    </tr>\n",
       "    <tr>\n",
       "      <th>8103</th>\n",
       "      <td>Санкт-Петербург</td>\n",
       "      <td>POLYGON ((30.335844 59.818188, 30.333188 59.81...</td>\n",
       "      <td>8a1106001217fff</td>\n",
       "      <td>59.810955</td>\n",
       "      <td>30.339844</td>\n",
       "      <td>2792.733213</td>\n",
       "    </tr>\n",
       "    <tr>\n",
       "      <th>8104</th>\n",
       "      <td>Санкт-Петербург</td>\n",
       "      <td>POLYGON ((30.3374 59.818552, 30.324309 59.8167...</td>\n",
       "      <td>8a110600121ffff</td>\n",
       "      <td>59.811736</td>\n",
       "      <td>30.341400</td>\n",
       "      <td>2792.576978</td>\n",
       "    </tr>\n",
       "    <tr>\n",
       "      <th>8105</th>\n",
       "      <td>Санкт-Петербург</td>\n",
       "      <td>POLYGON ((30.338565 59.817415, 30.337674 59.81...</td>\n",
       "      <td>8a1106001227fff</td>\n",
       "      <td>59.812412</td>\n",
       "      <td>30.337565</td>\n",
       "      <td>2792.987206</td>\n",
       "    </tr>\n",
       "    <tr>\n",
       "      <th>...</th>\n",
       "      <td>...</td>\n",
       "      <td>...</td>\n",
       "      <td>...</td>\n",
       "      <td>...</td>\n",
       "      <td>...</td>\n",
       "      <td>...</td>\n",
       "    </tr>\n",
       "    <tr>\n",
       "      <th>28583</th>\n",
       "      <td>Санкт-Петербург</td>\n",
       "      <td>POLYGON ((30.10507 60.000666, 30.10382 60.0005...</td>\n",
       "      <td>8a1106b9ed97fff</td>\n",
       "      <td>59.995250</td>\n",
       "      <td>30.111070</td>\n",
       "      <td>2818.686165</td>\n",
       "    </tr>\n",
       "    <tr>\n",
       "      <th>28584</th>\n",
       "      <td>Санкт-Петербург</td>\n",
       "      <td>POLYGON ((30.106626 60.000854, 30.104031 60.00...</td>\n",
       "      <td>8a1106b9ed9ffff</td>\n",
       "      <td>59.996033</td>\n",
       "      <td>30.112626</td>\n",
       "      <td>2818.529551</td>\n",
       "    </tr>\n",
       "    <tr>\n",
       "      <th>28585</th>\n",
       "      <td>Санкт-Петербург</td>\n",
       "      <td>POLYGON ((30.107775 60.000583, 30.104003 60.00...</td>\n",
       "      <td>8a1106b9eda7fff</td>\n",
       "      <td>59.996699</td>\n",
       "      <td>30.108775</td>\n",
       "      <td>2818.943410</td>\n",
       "    </tr>\n",
       "    <tr>\n",
       "      <th>28586</th>\n",
       "      <td>Санкт-Петербург</td>\n",
       "      <td>POLYGON ((30.108331 60.000405, 30.10352 60.000...</td>\n",
       "      <td>8a1106b9edaffff</td>\n",
       "      <td>59.997482</td>\n",
       "      <td>30.110331</td>\n",
       "      <td>2818.786794</td>\n",
       "    </tr>\n",
       "    <tr>\n",
       "      <th>28587</th>\n",
       "      <td>Санкт-Петербург</td>\n",
       "      <td>POLYGON ((30.108144 60.000434, 30.103411 60.00...</td>\n",
       "      <td>8a1106b9edb7fff</td>\n",
       "      <td>59.995583</td>\n",
       "      <td>30.109144</td>\n",
       "      <td>2818.893090</td>\n",
       "    </tr>\n",
       "  </tbody>\n",
       "</table>\n",
       "<p>20487 rows × 6 columns</p>\n",
       "</div>"
      ],
      "text/plain": [
       "                  city                                         walk_15min  \\\n",
       "8101   Санкт-Петербург  POLYGON ((30.332483 59.818147, 30.323693 59.81...   \n",
       "8102   Санкт-Петербург  POLYGON ((30.337039 59.818861, 30.329936 59.81...   \n",
       "8103   Санкт-Петербург  POLYGON ((30.335844 59.818188, 30.333188 59.81...   \n",
       "8104   Санкт-Петербург  POLYGON ((30.3374 59.818552, 30.324309 59.8167...   \n",
       "8105   Санкт-Петербург  POLYGON ((30.338565 59.817415, 30.337674 59.81...   \n",
       "...                ...                                                ...   \n",
       "28583  Санкт-Петербург  POLYGON ((30.10507 60.000666, 30.10382 60.0005...   \n",
       "28584  Санкт-Петербург  POLYGON ((30.106626 60.000854, 30.104031 60.00...   \n",
       "28585  Санкт-Петербург  POLYGON ((30.107775 60.000583, 30.104003 60.00...   \n",
       "28586  Санкт-Петербург  POLYGON ((30.108331 60.000405, 30.10352 60.000...   \n",
       "28587  Санкт-Петербург  POLYGON ((30.108144 60.000434, 30.103411 60.00...   \n",
       "\n",
       "             geo_h3_10        lat        lon  dist_squared  \n",
       "8101   8a1106001207fff  59.812074  30.339483   2792.782088  \n",
       "8102   8a110600120ffff  59.812854  30.341039   2792.625851  \n",
       "8103   8a1106001217fff  59.810955  30.339844   2792.733213  \n",
       "8104   8a110600121ffff  59.811736  30.341400   2792.576978  \n",
       "8105   8a1106001227fff  59.812412  30.337565   2792.987206  \n",
       "...                ...        ...        ...           ...  \n",
       "28583  8a1106b9ed97fff  59.995250  30.111070   2818.686165  \n",
       "28584  8a1106b9ed9ffff  59.996033  30.112626   2818.529551  \n",
       "28585  8a1106b9eda7fff  59.996699  30.108775   2818.943410  \n",
       "28586  8a1106b9edaffff  59.997482  30.110331   2818.786794  \n",
       "28587  8a1106b9edb7fff  59.995583  30.109144   2818.893090  \n",
       "\n",
       "[20487 rows x 6 columns]"
      ]
     },
     "execution_count": 80,
     "metadata": {},
     "output_type": "execute_result"
    }
   ],
   "source": [
    "iso[iso['city'] == 'Санкт-Петербург']"
   ]
  },
  {
   "cell_type": "code",
   "execution_count": 81,
   "id": "17526f5e-5db2-4df7-bf25-59136ea46b3c",
   "metadata": {},
   "outputs": [],
   "source": [
    "example_points = [\n",
    "    (56.881301, 60.490246, 'Екатеринбург'),\n",
    "    (54.934719, 83.129767, 'Новосибирск'),\n",
    "    (56.383627, 43.777762, 'Нижний Новгород'),\n",
    "    (59.812074, 30.339483, 'Санкт-Петербург')\n",
    "]"
   ]
  },
  {
   "cell_type": "code",
   "execution_count": 82,
   "id": "0ed6e59d-1c80-4716-9e71-2bd45ab7534a",
   "metadata": {},
   "outputs": [],
   "source": [
    "rez = dict()"
   ]
  },
  {
   "cell_type": "code",
   "execution_count": 84,
   "id": "2bbbaa23-5834-4eed-915e-94d033b81dcd",
   "metadata": {},
   "outputs": [],
   "source": [
    "from typing import NamedTuple\n",
    "\n",
    "class Isochrone(NamedTuple):\n",
    "    city: str\n",
    "    walk_15min: str"
   ]
  },
  {
   "cell_type": "code",
   "execution_count": 86,
   "id": "823ba719-a155-4625-a749-bfdecd4308a2",
   "metadata": {},
   "outputs": [
    {
     "name": "stderr",
     "output_type": "stream",
     "text": [
      "C:\\Users\\Marat\\AppData\\Local\\Temp\\ipykernel_3900\\3453585610.py:4: SettingWithCopyWarning: \n",
      "A value is trying to be set on a copy of a slice from a DataFrame.\n",
      "Try using .loc[row_indexer,col_indexer] = value instead\n",
      "\n",
      "See the caveats in the documentation: https://pandas.pydata.org/pandas-docs/stable/user_guide/indexing.html#returning-a-view-versus-a-copy\n",
      "  iso_city['dist_squared'] = (lat - iso_city['lat']) ** 2 + (lon - iso_city['lon']) ** 2\n"
     ]
    }
   ],
   "source": [
    "for lat, lon in set_of_coords:\n",
    "    city = sorted(example_points, key= lambda x: (lat - x[0]) ** 2 + (lon - x[1]) ** 2)[0][2]\n",
    "    iso_city = iso[iso['city'] == city]\n",
    "    iso_city['dist_squared'] = (lat - iso_city['lat']) ** 2 + (lon - iso_city['lon']) ** 2\n",
    "    iso_city.sort_values(by='dist_squared')\n",
    "    rez[(lat, lon)] = Isochrone(city=city, walk_15min=str(iso_city.iloc[0]['walk_15min']))"
   ]
  },
  {
   "cell_type": "code",
   "execution_count": 100,
   "id": "b72bb839-aaee-486f-87be-162cf2d689b4",
   "metadata": {},
   "outputs": [],
   "source": [
    "tmp1 = list(map(lambda x: list(x), list(rez.keys())))"
   ]
  },
  {
   "cell_type": "code",
   "execution_count": 101,
   "id": "74a3abc5-7130-4502-b1b0-2024bb36df50",
   "metadata": {},
   "outputs": [],
   "source": [
    "tmp2 = list(map(lambda x: [x.city, x.walk_15min], list(rez.values())))"
   ]
  },
  {
   "cell_type": "code",
   "execution_count": null,
   "id": "3cc15a6e-89bd-47a5-9b94-347134b1e58a",
   "metadata": {},
   "outputs": [],
   "source": [
    "tmp = []\n",
    "for i in range(len(tmp1)):\n",
    "    tmp.append(tmp1[i] + tmp2[i])\n",
    "tmp[:10]"
   ]
  },
  {
   "cell_type": "code",
   "execution_count": 107,
   "id": "2ec9a5b2-7233-451d-bc61-78b94e01a64f",
   "metadata": {},
   "outputs": [],
   "source": [
    "import csv\n",
    "csv_columns = ['lat','lon','city', 'walk_15min']\n",
    "dict_data = [dict(zip(csv_columns, tmp_i)) for tmp_i in tmp]\n",
    "csv_file = \"atm_to_iso.csv\"\n",
    "try:\n",
    "    with open(csv_file, 'w') as csvfile:\n",
    "        writer = csv.DictWriter(csvfile, fieldnames=csv_columns)\n",
    "        writer.writeheader()\n",
    "        for data in dict_data:\n",
    "            writer.writerow(data)\n",
    "except IOError:\n",
    "    print(\"I/O error\")"
   ]
  },
  {
   "cell_type": "code",
   "execution_count": 106,
   "id": "027eabca-11c9-4c4d-8a99-ecc4b7121641",
   "metadata": {},
   "outputs": [
    {
     "data": {
      "text/plain": [
       "[[54.95692108861624,\n",
       "  82.96276264610175,\n",
       "  'Новосибирск',\n",
       "  'POLYGON ((83.13076700000001 54.945835, 83.129767 54.94532, 83.127691 54.945719, 83.126606 54.944719, 83.12468 54.944805, 83.122883 54.942719, 83.123986 54.941938, 83.123767 54.941445, 83.122587 54.94154, 83.12176700000001 54.942417, 83.120767 54.941767, 83.119767 54.942351, 83.11876700000001 54.942208, 83.117997 54.941719, 83.119056 54.941008, 83.11876700000001 54.940334, 83.11770300000001 54.940656, 83.1172 54.941719, 83.115881 54.941604, 83.114732 54.940719, 83.113641 54.938844, 83.110595 54.936719, 83.113767 54.935206, 83.114125 54.934719, 83.113394 54.933346, 83.114767 54.932364, 83.115775 54.932727, 83.11573199999999 54.931719, 83.11779900000001 54.930719, 83.116782 54.929719, 83.11876700000001 54.928668, 83.12176700000001 54.929147, 83.122394 54.927719, 83.12608 54.927033, 83.126767 54.926463, 83.129158 54.927719, 83.128727 54.928758, 83.13131799999999 54.929168, 83.13184800000001 54.929637, 83.131767 54.930125, 83.130618 54.93057, 83.131429 54.931056, 83.13139 54.933342, 83.130143 54.933342, 83.129767 54.932579, 83.129566 54.933518, 83.128704 54.933656, 83.128719 54.934766, 83.12889199999999 54.933844, 83.131631 54.933854, 83.13172 54.934765, 83.13261900000001 54.934867, 83.132767 54.935806, 83.132986 54.934938, 83.135767 54.934851, 83.13650199999999 54.934984, 83.13676700000001 54.935994, 83.137767 54.935547, 83.139501 54.936719, 83.138611 54.938563, 83.13727900000001 54.939231, 83.137767 54.941411, 83.136388 54.941097, 83.13600099999999 54.940485, 83.134767 54.940483, 83.133653 54.939606, 83.133072 54.942719, 83.133543 54.943719, 83.13076700000001 54.945835))'],\n",
       " [56.84303592727723,\n",
       "  60.64435429210312,\n",
       "  'Екатеринбург',\n",
       "  'POLYGON ((60.499246 56.888315, 60.494968 56.888579, 60.493246 56.889049, 60.492301 56.888246, 60.489921 56.887976, 60.489246 56.888682, 60.487318 56.888374, 60.485246 56.889223, 60.484246 56.887787, 60.483246 56.888418, 60.482246 56.887365, 60.481246 56.887076, 60.480046 56.887101, 60.479246 56.887602, 60.477246 56.88746, 60.476246 56.886953, 60.474246 56.886828, 60.471805 56.885301, 60.473584 56.884639, 60.474246 56.883687, 60.478246 56.883446, 60.478511 56.882566, 60.480318 56.882374, 60.48045 56.881505, 60.483246 56.881391, 60.483426 56.880481, 60.485066 56.880481, 60.48519 56.881357, 60.486169 56.881378, 60.486384 56.880439, 60.488246 56.880366, 60.484428 56.880119, 60.484337 56.879301, 60.486299 56.878354, 60.487246 56.877382, 60.488308 56.877364, 60.488444 56.8765, 60.49032 56.876375, 60.490482 56.875538, 60.492009 56.875538, 60.492017 56.878073, 60.490149 56.878301, 60.490202 56.879345, 60.491246 56.879369, 60.491395 56.87845, 60.4933 56.878355, 60.493419 56.877474, 60.496246 56.877398, 60.496463 56.876519, 60.498334 56.87639, 60.498545 56.8756, 60.501246 56.875479, 60.502246 56.874536, 60.503246 56.874783, 60.504246 56.87388, 60.505246 56.873747, 60.506506 56.874301, 60.505246 56.874702, 60.504246 56.875958, 60.503089 56.876144, 60.503804 56.877301, 60.501025 56.87808, 60.503373 56.880301, 60.5035 56.882556, 60.501246 56.887101, 60.500246 56.887309, 60.499246 56.888315))'],\n",
       " [59.95374793905856,\n",
       "  30.31352227423201,\n",
       "  'Санкт-Петербург',\n",
       "  'POLYGON ((30.332483 59.818147, 30.323693 59.817074, 30.324483 59.816024, 30.326483 59.815583, 30.327229 59.816328, 30.328633 59.816224, 30.326889 59.814074, 30.328856 59.812447, 30.328711 59.810845, 30.328314 59.809243, 30.326867 59.809074, 30.328483 59.808646, 30.329175 59.809381, 30.330483 59.809349, 30.330865 59.808456, 30.333231 59.807822, 30.334483 59.80644, 30.336679 59.806878, 30.337217 59.808339, 30.339816 59.80974, 30.340437 59.81112, 30.341351 59.811206, 30.341483 59.812142, 30.345483 59.812157, 30.346483 59.813165, 30.349483 59.813671, 30.349883 59.814474, 30.349198 59.815789, 30.348483 59.815931, 30.336483 59.815979, 30.336483 59.816481, 30.338723 59.817074, 30.337616 59.817207, 30.337483 59.818001, 30.336909 59.817648, 30.333483 59.817412, 30.332483 59.818147))'],\n",
       " [60.01722596365553,\n",
       "  30.2455607052654,\n",
       "  'Санкт-Петербург',\n",
       "  'POLYGON ((30.332483 59.818147, 30.323693 59.817074, 30.324483 59.816024, 30.326483 59.815583, 30.327229 59.816328, 30.328633 59.816224, 30.326889 59.814074, 30.328856 59.812447, 30.328711 59.810845, 30.328314 59.809243, 30.326867 59.809074, 30.328483 59.808646, 30.329175 59.809381, 30.330483 59.809349, 30.330865 59.808456, 30.333231 59.807822, 30.334483 59.80644, 30.336679 59.806878, 30.337217 59.808339, 30.339816 59.80974, 30.340437 59.81112, 30.341351 59.811206, 30.341483 59.812142, 30.345483 59.812157, 30.346483 59.813165, 30.349483 59.813671, 30.349883 59.814474, 30.349198 59.815789, 30.348483 59.815931, 30.336483 59.815979, 30.336483 59.816481, 30.338723 59.817074, 30.337616 59.817207, 30.337483 59.818001, 30.336909 59.817648, 30.333483 59.817412, 30.332483 59.818147))']]"
      ]
     },
     "execution_count": 106,
     "metadata": {},
     "output_type": "execute_result"
    }
   ],
   "source": [
    "tmp[:4]"
   ]
  },
  {
   "cell_type": "code",
   "execution_count": null,
   "id": "acc66d43-cc15-46b8-b03b-dbddb83d3583",
   "metadata": {},
   "outputs": [],
   "source": []
  }
 ],
 "metadata": {
  "kernelspec": {
   "display_name": "Python 3 (ipykernel)",
   "language": "python",
   "name": "python3"
  },
  "language_info": {
   "codemirror_mode": {
    "name": "ipython",
    "version": 3
   },
   "file_extension": ".py",
   "mimetype": "text/x-python",
   "name": "python",
   "nbconvert_exporter": "python",
   "pygments_lexer": "ipython3",
   "version": "3.10.4"
  }
 },
 "nbformat": 4,
 "nbformat_minor": 5
}
